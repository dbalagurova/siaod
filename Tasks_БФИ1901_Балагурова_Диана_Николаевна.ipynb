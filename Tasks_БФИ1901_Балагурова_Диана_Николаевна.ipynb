{
 "cells": [
  {
   "cell_type": "markdown",
   "metadata": {},
   "source": [
    "# Задача 1. «Треугольник с максимальным периметром»\n",
    "Массив A состоит из целых положительных чисел длин отрезков. Составьте из трех отрезков такой треугольник, чтобы его периметр был максимально возможным. Если невозможно составить треугольник с положительной площадью функция возвращает 0"
   ]
  },
  {
   "cell_type": "code",
   "execution_count": 1,
   "metadata": {},
   "outputs": [
    {
     "name": "stdout",
     "output_type": "stream",
     "text": [
      "Введите массив: [3,2,3,4]\n"
     ]
    },
    {
     "data": {
      "text/plain": [
       "10"
      ]
     },
     "execution_count": 1,
     "metadata": {},
     "output_type": "execute_result"
    }
   ],
   "source": [
    "def triangle():\n",
    "    A = list(map(int, input(\"Введите массив: \").replace(' ', '').strip('[]').split(',')))\n",
    "    \n",
    "    if len(A) < 3 or len(A) > 10000:\n",
    "        return 'not 3 ⩽ len(A) ⩽ 10000'\n",
    "    for elem in A:\n",
    "        if elem < 1 or elem > 1000000:\n",
    "            return 'not 1 ⩽ A[i] ⩽ 1000000'\n",
    "\n",
    "        \n",
    "    sA = sorted(A, reverse=True)\n",
    "    for i in range(len(A) - 2):\n",
    "        if sA[i] < sA[i+1] + sA[i+2]:\n",
    "            return sA[i] + sA[i+1] + sA[i+2]\n",
    "    return 0\n",
    "\n",
    "triangle()"
   ]
  },
  {
   "cell_type": "markdown",
   "metadata": {},
   "source": [
    "# Задача 2. «Максимальное число»\n",
    "Дан массив неотрицательных целых чисел nums. Расположите их в таком порядке, чтобы вместе они образовали максимально возможное число."
   ]
  },
  {
   "cell_type": "code",
   "execution_count": 35,
   "metadata": {},
   "outputs": [
    {
     "name": "stdout",
     "output_type": "stream",
     "text": [
      "\n",
      "Введите массив: [3,30,34,5,9]\n"
     ]
    },
    {
     "data": {
      "text/plain": [
       "'9534330'"
      ]
     },
     "execution_count": 35,
     "metadata": {},
     "output_type": "execute_result"
    }
   ],
   "source": [
    "def maxNumber():\n",
    "    def cmpstr(s):\n",
    "        return s + s[-1] * (9 - len(s))\n",
    "\n",
    "    nums = list(map(int, input(\"Введите массив: \").replace(' ', '').strip('[]').split(',')))\n",
    "    \n",
    "    if len(nums) < 1 or len(nums) > 100:\n",
    "        return 'not 1 ⩽ len(nums) ⩽ 100'\n",
    "    for elem in nums:\n",
    "        if elem < 0 or elem > 1000000000:\n",
    "            return 'not 0 ⩽ nums[i] ⩽ 1000000000'\n",
    "        \n",
    "    snums = map(str, nums)\n",
    "    return ''.join(sorted(snums, reverse=True, key=cmpstr))\n",
    "\n",
    "maxNumber()"
   ]
  },
  {
   "cell_type": "markdown",
   "metadata": {},
   "source": [
    "# Задача 3. «Сортировка диагоналей в матрице»\n",
    "Дана матрица mat размером m * n, значения целочисленные. Напишите функцию, сортирующую каждую диагональ матрицы по возрастанию и возвращающую получившуюся матрицу"
   ]
  },
  {
   "cell_type": "code",
   "execution_count": 37,
   "metadata": {},
   "outputs": [
    {
     "name": "stdout",
     "output_type": "stream",
     "text": [
      "\n",
      "Введите m: 5\n",
      "\n",
      "Введите n: 6\n",
      "\n",
      "Введите матрицу через запятые и скобки []: [11, 25, 66, 1, 69, 7], [23, 55, 17, 45, 15, 52], [75, 31, 36, 44, 58, 8], [22, 27, 33, 25, 68, 4], [84, 28, 14, 11, 5, 50]\n"
     ]
    },
    {
     "data": {
      "text/plain": [
       "[[5, 17, 4, 1, 52, 7],\n",
       " [11, 11, 25, 45, 8, 69],\n",
       " [14, 23, 25, 44, 58, 15],\n",
       " [22, 27, 31, 36, 50, 66],\n",
       " [84, 28, 75, 33, 55, 68]]"
      ]
     },
     "execution_count": 37,
     "metadata": {},
     "output_type": "execute_result"
    }
   ],
   "source": [
    "def sort():\n",
    "    m = int(input(\"\\nВведите m: \"))\n",
    "    n = int(input(\"\\nВведите n: \"))\n",
    "    if m < 1 or m > 100 or n < 1 or n > 100:\n",
    "        return 'not 1 ⩽ m, n ⩽ 100'\n",
    "    \n",
    "    spisstr = input(\"Введите матрицу через запятые и скобки []: \").replace(' ', '').strip('[]').split('],[')\n",
    "    if len(spisstr) != m:\n",
    "        return 'not m == len(mat)'\n",
    "    \n",
    "    matr = []\n",
    "    for sstr in spisstr:\n",
    "        mass = list(map(int, sstr.strip('[]').split(',')))\n",
    "        if len(mass) != n:\n",
    "            return 'not n == len(mat[i])'\n",
    "        for elem in mass:\n",
    "            if elem < 1 or elem > 100:\n",
    "                return 'not 1 ⩽ mat[i][j] ⩽ 100'\n",
    "        matr.append(mass)\n",
    "        \n",
    "    for diag in range(m + n):\n",
    "        if diag < m:\n",
    "            fx = 0 \n",
    "            fy = m - 1 - diag\n",
    "        else:\n",
    "            fy = 0\n",
    "            fx = diag - m + 1\n",
    "        delems = []\n",
    "        for i in range(max(m,n)):\n",
    "            if fy + i < m and fx + i < n:\n",
    "                delems.append(matr[fy + i][fx + i])\n",
    "        delems.sort()\n",
    "        for i in range(max(m,n)):\n",
    "            if fy + i < m and fx + i < n:\n",
    "                matr[fy + i][fx + i] = delems[i]\n",
    "    return matr\n",
    "\n",
    "sort()"
   ]
  },
  {
   "cell_type": "markdown",
   "metadata": {},
   "source": [
    "# Задача 4. «Шарики и стрелы»\n",
    "Некоторые сферические шарики распределены по двухмерному пространству. Для каждого шарика даны x-координаты начала и конца его горизонтального диаметра. Так как пространство двумерно, то y-координаты не имеют значения в данной задаче. Координата xstart всегда меньше xend.\n",
    "Стрелу можно выстрелить строго вертикально (вдоль y-оси) из разных точек x-оси. Шарик с координатами xstart и xend уничтожается стрелой, если она была выпущена из такой позиции x, что xstart ⩽ x ⩽ xend. Когда стрела выпущена, она летит в пространстве бесконечное время (уничтожая все шарики на пути).\n",
    "Дан массив points, где points[i] = [xstart, xend]. Напишите функцию, возвращающую минимальное количество стрел, которые нужно выпустить, чтобы уничтожить все шарики."
   ]
  },
  {
   "cell_type": "code",
   "execution_count": 33,
   "metadata": {},
   "outputs": [
    {
     "name": "stdout",
     "output_type": "stream",
     "text": [
      "\n",
      "Введите координаты мячей через запятые и скобки []: [10,16],[2,8],[1,6],[7,12]\n"
     ]
    },
    {
     "data": {
      "text/plain": [
       "2"
      ]
     },
     "execution_count": 33,
     "metadata": {},
     "output_type": "execute_result"
    }
   ],
   "source": [
    "def arrows():\n",
    "    \n",
    "    spisballs = input(\"Введите координаты мячей через запятые и скобки []: \").replace(' ', '').strip('[]').split('],[')\n",
    "    if len(spisballs) < 0 or len(spisballs) > 10000:\n",
    "        return 'not 0 ⩽ len(points) ⩽ 10^4'\n",
    "    \n",
    "    points = []\n",
    "    for sstr in spisballs:\n",
    "        point = list(map(int, sstr.strip('[]').split(',')))\n",
    "        if len(point) != 2:\n",
    "            return 'not len(points[i]) == 2'\n",
    "        if point[0] < -2**31 or point[0] >= point[1] or point[1] > 2**31-1:\n",
    "            return 'not −2^31 ⩽ xstart < xend ⩽ 2^31 − 1'\n",
    "        points.append(point)\n",
    "\n",
    "    points.sort(key=lambda point: point[1])\n",
    "    arrowCount = 0\n",
    "    possibleEnd = -2**31\n",
    "    for point in points:\n",
    "        if point[0] > possibleEnd:\n",
    "            possibleEnd = point[1]\n",
    "            arrowCount += 1\n",
    "    return arrowCount\n",
    "\n",
    "arrows()"
   ]
  },
  {
   "cell_type": "markdown",
   "metadata": {},
   "source": [
    "# Задача 5\n",
    "Даны две строки: s1 и s2 с одинаковым размером, проверьте, может ли некоторая перестановка строки s1 “победить” некоторую перестановку строки s2 или наоборот. Строка x может “победить” строку y (обе имеют размер n), если x[i]> = y[i] (в алфавитном порядке) для всех i от 0 до n-1"
   ]
  },
  {
   "cell_type": "code",
   "execution_count": 39,
   "metadata": {},
   "outputs": [
    {
     "name": "stdout",
     "output_type": "stream",
     "text": [
      "\n",
      "Введите первую строку: abe\n",
      "\n",
      "Введите вторую строку: acd\n"
     ]
    },
    {
     "data": {
      "text/plain": [
       "False"
      ]
     },
     "execution_count": 39,
     "metadata": {},
     "output_type": "execute_result"
    }
   ],
   "source": [
    "def strWin():\n",
    "\n",
    "    s1 = input(\"Введите первую строку: \")\n",
    "    s2 = input(\"Введите вторую строку: \")\n",
    "    s1 = sorted(s1)\n",
    "    s2 = sorted(s2)\n",
    "        \n",
    "    flag = True\n",
    "    for i in range(len(s1)):\n",
    "        if s1[i] > s2[i]:\n",
    "            flag = False\n",
    "            break\n",
    "    if flag:\n",
    "        return True\n",
    "        \n",
    "    for i in range(len(s1)):\n",
    "        if s1[i] < s2[i]:\n",
    "            return False          \n",
    " \n",
    "    return True \n",
    "\n",
    "strWin()"
   ]
  },
  {
   "cell_type": "markdown",
   "metadata": {},
   "source": [
    "# Задача 6\n",
    "Дана строка s, вернуть самую длинную пaлиндромную подстроку в s"
   ]
  },
  {
   "cell_type": "code",
   "execution_count": 2,
   "metadata": {},
   "outputs": [
    {
     "name": "stdout",
     "output_type": "stream",
     "text": [
      "Введите строку: babad\n",
      "bab"
     ]
    }
   ],
   "source": [
    "def printSubStr(str, low, high):\n",
    "     \n",
    "    for i in range(low, high + 1):\n",
    "        print(str[i], end = \"\")\n",
    "        \n",
    "def palindrome():\n",
    "    str = input(\"Введите строку: \")\n",
    "    n = len(str)\n",
    "     \n",
    "    maxLength = 1\n",
    "    start = 0\n",
    "     \n",
    "    for i in range(n):\n",
    "        for j in range(i, n):\n",
    "            flag = 1\n",
    "             \n",
    "            for k in range(0, ((j - i) // 2) + 1):\n",
    "                if (str[i + k] != str[j - k]):\n",
    "                    flag = 0\n",
    " \n",
    "            if (flag != 0 and (j - i + 1) > maxLength):\n",
    "                start = i\n",
    "                maxLength = j - i + 1\n",
    "                 \n",
    "    printSubStr(str, start, start + maxLength - 1)\n",
    " \n",
    "palindrome()"
   ]
  },
  {
   "cell_type": "markdown",
   "metadata": {},
   "source": [
    "# Задача 7\n",
    "Вернуть количество отдельных непустых подстрок текста, которые могут быть записаны как конкатенация некоторой строки с самой собой (т.е. она может быть записана, как a + a, где a - некоторая строка)"
   ]
  },
  {
   "cell_type": "code",
   "execution_count": 4,
   "metadata": {},
   "outputs": [
    {
     "name": "stdout",
     "output_type": "stream",
     "text": [
      "Введите строку:abcabcabc\n"
     ]
    },
    {
     "data": {
      "text/plain": [
       "3"
      ]
     },
     "execution_count": 4,
     "metadata": {},
     "output_type": "execute_result"
    }
   ],
   "source": [
    "def double():\n",
    "    \n",
    "    str = input(\"Введите строку:\")\n",
    "    res = set()\n",
    "    n = len(str)\n",
    "    def check(s):\n",
    "        l = len(s)\n",
    "        if l % 2 == 0 and s[:l//2] == s[l//2:]:\n",
    "            return True\n",
    "        return False\n",
    "    for i in range(n):\n",
    "        for j in range(i + 1, n + 1):\n",
    "            if check(str[i:j]):\n",
    "                res.add(str[i:j])\n",
    "    return len(res)\n",
    "\n",
    "double()"
   ]
  },
  {
   "cell_type": "markdown",
   "metadata": {},
   "source": [
    "# Задача 8. «Стопки монет»\n",
    "На столе стоят 3n стопок монет. Вы и ваши друзья Алиса и Боб забираете стопки монет по следующему алгоритму:\n",
    "1. Вы выбираете 3 стопки монет из оставшихся на столе.\n",
    "2. Алиса забирает себе стопку с максимальным количеством монет.\n",
    "3. Вы забираете одну из двух оставшихся стопок.\n",
    "4. Боб забирает последнюю стопку.\n",
    "5. Если еще остались стопки, то действия повторяются с первого шага.\n",
    "Дан массив целых положительных чисел piles. Напишите функцию, возвращающую максимальное число монет, которое вы можете получить."
   ]
  },
  {
   "cell_type": "code",
   "execution_count": 8,
   "metadata": {},
   "outputs": [
    {
     "name": "stdout",
     "output_type": "stream",
     "text": [
      "Введите массив: [9,8,7,6,5,1,2,3,4]\n"
     ]
    },
    {
     "data": {
      "text/plain": [
       "18"
      ]
     },
     "execution_count": 8,
     "metadata": {},
     "output_type": "execute_result"
    }
   ],
   "source": [
    " def maxCoins():\n",
    "        \n",
    "    piles = list(map(int, input(\"Введите массив: \").replace(' ', '').strip('[]').split(',')))\n",
    "    piles.sort(reverse = True)\n",
    "    i = 0\n",
    "    j = len(piles) - 1\n",
    "    count = 0\n",
    "    \n",
    "    while i < j:\n",
    "        count = count + piles[i+1]\n",
    "        i = i + 2\n",
    "        j = j - 1\n",
    "    return count\n",
    "\n",
    "maxCoins()"
   ]
  }
 ],
 "metadata": {
  "kernelspec": {
   "display_name": "Python 3",
   "language": "python",
   "name": "python3"
  },
  "language_info": {
   "codemirror_mode": {
    "name": "ipython",
    "version": 3
   },
   "file_extension": ".py",
   "mimetype": "text/x-python",
   "name": "python",
   "nbconvert_exporter": "python",
   "pygments_lexer": "ipython3",
   "version": "3.8.5"
  }
 },
 "nbformat": 4,
 "nbformat_minor": 4
}
